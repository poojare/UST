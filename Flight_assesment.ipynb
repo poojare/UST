{
 "cells": [
  {
   "cell_type": "code",
   "execution_count": 2,
   "id": "6b5ab1fc",
   "metadata": {},
   "outputs": [
    {
     "name": "stdout",
     "output_type": "stream",
     "text": [
      "Requirement already satisfied: pandas in c:\\users\\ustpython19\\anaconda3\\lib\\site-packages (1.4.2)\n",
      "Requirement already satisfied: pytz>=2020.1 in c:\\users\\ustpython19\\anaconda3\\lib\\site-packages (from pandas) (2021.3)\n",
      "Requirement already satisfied: numpy>=1.18.5 in c:\\users\\ustpython19\\anaconda3\\lib\\site-packages (from pandas) (1.21.5)\n",
      "Requirement already satisfied: python-dateutil>=2.8.1 in c:\\users\\ustpython19\\anaconda3\\lib\\site-packages (from pandas) (2.8.2)\n",
      "Requirement already satisfied: six>=1.5 in c:\\users\\ustpython19\\anaconda3\\lib\\site-packages (from python-dateutil>=2.8.1->pandas) (1.16.0)\n"
     ]
    }
   ],
   "source": [
    "!pip install pandas\n"
   ]
  },
  {
   "cell_type": "code",
   "execution_count": 5,
   "id": "ed69dcfa",
   "metadata": {},
   "outputs": [],
   "source": [
    "import pandas as pd\n"
   ]
  },
  {
   "cell_type": "code",
   "execution_count": 63,
   "id": "bdf1ec23",
   "metadata": {},
   "outputs": [
    {
     "name": "stdout",
     "output_type": "stream",
     "text": [
      "Requirement already satisfied: numpy in c:\\users\\ustpython19\\anaconda3\\lib\\site-packages (1.21.5)\n"
     ]
    }
   ],
   "source": [
    "!pip install numpy"
   ]
  },
  {
   "cell_type": "code",
   "execution_count": 15,
   "id": "b33ec6ef",
   "metadata": {},
   "outputs": [
    {
     "name": "stdout",
     "output_type": "stream",
     "text": [
      "Requirement already satisfied: pymongo in c:\\users\\ustpython19\\anaconda3\\lib\\site-packages (4.2.0)\n"
     ]
    }
   ],
   "source": [
    "!pip install pymongo\n",
    "        "
   ]
  },
  {
   "cell_type": "code",
   "execution_count": 67,
   "id": "c0cf96cb",
   "metadata": {},
   "outputs": [],
   "source": [
    "#a)Create collections “flights” inside database “airline_delayDB”\n",
    "\n",
    "from pymongo import MongoClient\n",
    "import pandas as pd\n",
    "import numpy as np\n",
    "import json\n",
    "import matplotlib.pyplot as plt\n",
    "import seaborn as sns\n",
    "\n",
    "\n",
    "def mongoimport(csv_path):\n",
    "        flight_df = pd.read_csv(csv_path)\n",
    "        payload = json.loads(flight_df.to_json(orient = 'records'))\n",
    "        collection.delete_many({})\n",
    "        collection.insert_many(payload)\n",
    "        \n",
    "    \n",
    "if __name__ ==\"__main__\":\n",
    "    client = MongoClient(\"mongodb://localhost:27017\")\n",
    "    db = client['airline_delayDB']\n",
    "    collection = db['flights']\n",
    "    \n",
    "    mongoimport('E:/USTpython/pymongo1/Flights_Delay.csv')"
   ]
  },
  {
   "cell_type": "code",
   "execution_count": 75,
   "id": "be49d99e",
   "metadata": {},
   "outputs": [
    {
     "name": "stdout",
     "output_type": "stream",
     "text": [
      "{'averagedealy': 7.545457931394093}\n"
     ]
    }
   ],
   "source": [
    "#b) Average arrival dealy caused by airlines\n",
    "\n",
    "a=collection.aggregate([{'$group':{'_id':'null','averagedealy':{'$avg':'$ARRIVAL_DELAY'}}},{'$project':{'_id':0}}])\n",
    "for item in a:\n",
    "    print(item)"
   ]
  },
  {
   "cell_type": "code",
   "execution_count": 86,
   "id": "65381b6c",
   "metadata": {},
   "outputs": [
    {
     "data": {
      "text/html": [
       "<div>\n",
       "<style scoped>\n",
       "    .dataframe tbody tr th:only-of-type {\n",
       "        vertical-align: middle;\n",
       "    }\n",
       "\n",
       "    .dataframe tbody tr th {\n",
       "        vertical-align: top;\n",
       "    }\n",
       "\n",
       "    .dataframe thead th {\n",
       "        text-align: right;\n",
       "    }\n",
       "</style>\n",
       "<table border=\"1\" class=\"dataframe\">\n",
       "  <thead>\n",
       "    <tr style=\"text-align: right;\">\n",
       "      <th></th>\n",
       "      <th>_id</th>\n",
       "      <th>averagedealy</th>\n",
       "    </tr>\n",
       "  </thead>\n",
       "  <tbody>\n",
       "    <tr>\n",
       "      <th>0</th>\n",
       "      <td>1</td>\n",
       "      <td>5.860943</td>\n",
       "    </tr>\n",
       "    <tr>\n",
       "      <th>1</th>\n",
       "      <td>3</td>\n",
       "      <td>11.343455</td>\n",
       "    </tr>\n",
       "    <tr>\n",
       "      <th>2</th>\n",
       "      <td>2</td>\n",
       "      <td>8.122952</td>\n",
       "    </tr>\n",
       "  </tbody>\n",
       "</table>\n",
       "</div>"
      ],
      "text/plain": [
       "   _id  averagedealy\n",
       "0    1      5.860943\n",
       "1    3     11.343455\n",
       "2    2      8.122952"
      ]
     },
     "metadata": {},
     "output_type": "display_data"
    },
    {
     "data": {
      "image/png": "[encoded data removed]",
      "text/plain": [
       "<Figure size 432x288 with 1 Axes>"
      ]
     },
     "metadata": {
      "needs_background": "light"
     },
     "output_type": "display_data"
    }
   ],
   "source": [
    "#c)Days of months with respect to average of arrival delay\n",
    "a=collection.aggregate([{'$group':{'_id':'$MONTH','averagedealy':{'$avg':'$ARRIVAL_DELAY'}}}])\n",
    "\n",
    "df=pd.DataFrame(a)\n",
    "display(df)\n",
    "plt.bar(df['_id'], df['averagedealy'],color=\"green\")\n",
    "plt.xlabel('Month')\n",
    "plt.ylabel('Averagedelay')\n",
    "plt.show()\n",
    "\n",
    "\n"
   ]
  },
  {
   "cell_type": "code",
   "execution_count": 92,
   "id": "e859bced",
   "metadata": {},
   "outputs": [
    {
     "data": {
      "text/html": [
       "<div>\n",
       "<style scoped>\n",
       "    .dataframe tbody tr th:only-of-type {\n",
       "        vertical-align: middle;\n",
       "    }\n",
       "\n",
       "    .dataframe tbody tr th {\n",
       "        vertical-align: top;\n",
       "    }\n",
       "\n",
       "    .dataframe thead th {\n",
       "        text-align: right;\n",
       "    }\n",
       "</style>\n",
       "<table border=\"1\" class=\"dataframe\">\n",
       "  <thead>\n",
       "    <tr style=\"text-align: right;\">\n",
       "      <th></th>\n",
       "      <th>_id</th>\n",
       "      <th>averagedealy</th>\n",
       "    </tr>\n",
       "  </thead>\n",
       "  <tbody>\n",
       "    <tr>\n",
       "      <th>0</th>\n",
       "      <td>4</td>\n",
       "      <td>7.174969</td>\n",
       "    </tr>\n",
       "    <tr>\n",
       "      <th>1</th>\n",
       "      <td>6</td>\n",
       "      <td>4.888689</td>\n",
       "    </tr>\n",
       "    <tr>\n",
       "      <th>2</th>\n",
       "      <td>2</td>\n",
       "      <td>8.033644</td>\n",
       "    </tr>\n",
       "    <tr>\n",
       "      <th>3</th>\n",
       "      <td>1</td>\n",
       "      <td>10.807447</td>\n",
       "    </tr>\n",
       "    <tr>\n",
       "      <th>4</th>\n",
       "      <td>3</td>\n",
       "      <td>5.587079</td>\n",
       "    </tr>\n",
       "    <tr>\n",
       "      <th>5</th>\n",
       "      <td>7</td>\n",
       "      <td>10.110840</td>\n",
       "    </tr>\n",
       "    <tr>\n",
       "      <th>6</th>\n",
       "      <td>5</td>\n",
       "      <td>6.010538</td>\n",
       "    </tr>\n",
       "  </tbody>\n",
       "</table>\n",
       "</div>"
      ],
      "text/plain": [
       "   _id  averagedealy\n",
       "0    4      7.174969\n",
       "1    6      4.888689\n",
       "2    2      8.033644\n",
       "3    1     10.807447\n",
       "4    3      5.587079\n",
       "5    7     10.110840\n",
       "6    5      6.010538"
      ]
     },
     "metadata": {},
     "output_type": "display_data"
    },
    {
     "data": {
      "image/png": "[encoded data removed]",
      "text/plain": [
       "<Figure size 432x288 with 1 Axes>"
      ]
     },
     "metadata": {
      "needs_background": "light"
     },
     "output_type": "display_data"
    }
   ],
   "source": [
    "#d)  Arrange weekdays with respect to average of arrival delay  \n",
    "a=collection.aggregate([{'$group':{'_id':'$DAY_OF_WEEK','averagedealy':{'$avg':'$ARRIVAL_DELAY'}}}])\n",
    "df=pd.DataFrame(a)\n",
    "display(df)\n",
    "plt.bar(df['_id'],df['averagedealy'],color='pink')\n",
    "plt.title('Weekdays v/s average of arrival delays')\n",
    "plt.xlabel('Day_of_week')\n",
    "plt.ylabel('Avg Arrival delay')\n",
    "plt.show()"
   ]
  },
  {
   "cell_type": "code",
   "execution_count": 93,
   "id": "901d9675",
   "metadata": {},
   "outputs": [
    {
     "name": "stdout",
     "output_type": "stream",
     "text": [
      "{'_id': 0, 'totalcount': 2011}\n",
      "{'_id': 1, 'totalcount': 237}\n"
     ]
    }
   ],
   "source": [
    "#e)Arrange Days of month as per cancellation done in descending order\n",
    "allDocuments = collection.aggregate([{'$match':{'DAY':1}},{'$group':{'_id':'$CANCELLED','totalcount':{'$count':{}}}},{'$sort':{'totalcount':-1}}])\n",
    "for item in allDocuments:\n",
    "              print(item)\n",
    "         "
   ]
  },
  {
   "cell_type": "code",
   "execution_count": 95,
   "id": "c75a4650",
   "metadata": {},
   "outputs": [
    {
     "name": "stdout",
     "output_type": "stream",
     "text": [
      "{'busiestairport': 'YUM'}\n"
     ]
    }
   ],
   "source": [
    " #f)Find the busiest airports with respect to day of week\n",
    "allDocuments = collection.aggregate([{'$match':{'DAY_OF_WEEK':2}},{'$group':{'_id':'null','busiestairport':{'$max':'$ORIGIN_AIRPORT'}}},{'$project':{'_id':0}}])\n",
    "for item in allDocuments:\n",
    "    print(item)\n",
    "         "
   ]
  },
  {
   "cell_type": "code",
   "execution_count": 113,
   "id": "ef9a231c",
   "metadata": {},
   "outputs": [
    {
     "name": "stdout",
     "output_type": "stream",
     "text": [
      "{'_id': ObjectId('6363f49401da50698360a94b'), 'ID': 104, 'YEAR': 2015, 'MONTH': 2, 'DAY': 24, 'DAY_OF_WEEK': 2, 'AIRLINE': 'US', 'FLIGHT_NUMBER': 879, 'TAIL_NUMBER': 'N176UW', 'ORIGIN_AIRPORT': 'PVD', 'DESTINATION_AIRPORT': 'CLT', 'SCHEDULED_DEPARTURE': 800, 'DEPARTURE_TIME': 751.0, 'DEPARTURE_DELAY': -9.0, 'TAXI_OUT': 39.0, 'WHEELS_OFF': 830.0, 'SCHEDULED_TIME': 148, 'ELAPSED_TIME': 174.0, 'AIR_TIME': 115.0, 'DISTANCE': 683, 'WHEELS_ON': 1025.0, 'TAXI_IN': 20.0, 'SCHEDULED_ARRIVAL': 1028, 'ARRIVAL_TIME': 1045.0, 'ARRIVAL_DELAY': 17.0, 'DIVERTED': 0, 'CANCELLED': 0, 'CANCELLATION_REASON': None, 'AIR_SYSTEM_DELAY': 17.0, 'SECURITY_DELAY': 0.0, 'AIRLINE_DELAY': 0.0, 'LATE_AIRCRAFT_DELAY': 0.0, 'WEATHER_DELAY': 0.0}\n",
      "{'_id': ObjectId('6363f49401da50698360a94c'), 'ID': 105, 'YEAR': 2015, 'MONTH': 3, 'DAY': 4, 'DAY_OF_WEEK': 3, 'AIRLINE': 'US', 'FLIGHT_NUMBER': 1777, 'TAIL_NUMBER': 'N712US', 'ORIGIN_AIRPORT': 'DCA', 'DESTINATION_AIRPORT': 'RSW', 'SCHEDULED_DEPARTURE': 1530, 'DEPARTURE_TIME': 1547.0, 'DEPARTURE_DELAY': 17.0, 'TAXI_OUT': 30.0, 'WHEELS_OFF': 1617.0, 'SCHEDULED_TIME': 166, 'ELAPSED_TIME': 171.0, 'AIR_TIME': 133.0, 'DISTANCE': 892, 'WHEELS_ON': 1830.0, 'TAXI_IN': 8.0, 'SCHEDULED_ARRIVAL': 1816, 'ARRIVAL_TIME': 1838.0, 'ARRIVAL_DELAY': 22.0, 'DIVERTED': 0, 'CANCELLED': 0, 'CANCELLATION_REASON': None, 'AIR_SYSTEM_DELAY': 5.0, 'SECURITY_DELAY': 0.0, 'AIRLINE_DELAY': 3.0, 'LATE_AIRCRAFT_DELAY': 14.0, 'WEATHER_DELAY': 0.0}\n",
      "{'_id': ObjectId('6363f49401da50698360a915'), 'ID': 50, 'YEAR': 2015, 'MONTH': 1, 'DAY': 18, 'DAY_OF_WEEK': 7, 'AIRLINE': 'US', 'FLIGHT_NUMBER': 506, 'TAIL_NUMBER': 'N764US', 'ORIGIN_AIRPORT': 'MKE', 'DESTINATION_AIRPORT': 'PHX', 'SCHEDULED_DEPARTURE': 705, 'DEPARTURE_TIME': 657.0, 'DEPARTURE_DELAY': -8.0, 'TAXI_OUT': 18.0, 'WHEELS_OFF': 715.0, 'SCHEDULED_TIME': 249, 'ELAPSED_TIME': 219.0, 'AIR_TIME': 197.0, 'DISTANCE': 1460, 'WHEELS_ON': 932.0, 'TAXI_IN': 4.0, 'SCHEDULED_ARRIVAL': 1014, 'ARRIVAL_TIME': 936.0, 'ARRIVAL_DELAY': -38.0, 'DIVERTED': 0, 'CANCELLED': 0, 'CANCELLATION_REASON': None, 'AIR_SYSTEM_DELAY': None, 'SECURITY_DELAY': None, 'AIRLINE_DELAY': None, 'LATE_AIRCRAFT_DELAY': None, 'WEATHER_DELAY': None}\n",
      "{'_id': ObjectId('6363f49401da50698360a949'), 'ID': 102, 'YEAR': 2015, 'MONTH': 1, 'DAY': 4, 'DAY_OF_WEEK': 7, 'AIRLINE': 'US', 'FLIGHT_NUMBER': 1799, 'TAIL_NUMBER': 'N169UW', 'ORIGIN_AIRPORT': 'LGA', 'DESTINATION_AIRPORT': 'CLT', 'SCHEDULED_DEPARTURE': 1445, 'DEPARTURE_TIME': 1446.0, 'DEPARTURE_DELAY': 1.0, 'TAXI_OUT': 27.0, 'WHEELS_OFF': 1513.0, 'SCHEDULED_TIME': 122, 'ELAPSED_TIME': 137.0, 'AIR_TIME': 105.0, 'DISTANCE': 544, 'WHEELS_ON': 1658.0, 'TAXI_IN': 5.0, 'SCHEDULED_ARRIVAL': 1647, 'ARRIVAL_TIME': 1703.0, 'ARRIVAL_DELAY': 16.0, 'DIVERTED': 0, 'CANCELLED': 0, 'CANCELLATION_REASON': None, 'AIR_SYSTEM_DELAY': 15.0, 'SECURITY_DELAY': 0.0, 'AIRLINE_DELAY': 1.0, 'LATE_AIRCRAFT_DELAY': 0.0, 'WEATHER_DELAY': 0.0}\n",
      "{'_id': ObjectId('6363f49401da50698360a926'), 'ID': 67, 'YEAR': 2015, 'MONTH': 1, 'DAY': 13, 'DAY_OF_WEEK': 2, 'AIRLINE': 'US', 'FLIGHT_NUMBER': 406, 'TAIL_NUMBER': 'N803AW', 'ORIGIN_AIRPORT': 'PHX', 'DESTINATION_AIRPORT': 'DTW', 'SCHEDULED_DEPARTURE': 1315, 'DEPARTURE_TIME': 1322.0, 'DEPARTURE_DELAY': 7.0, 'TAXI_OUT': 20.0, 'WHEELS_OFF': 1342.0, 'SCHEDULED_TIME': 226, 'ELAPSED_TIME': 234.0, 'AIR_TIME': 203.0, 'DISTANCE': 1671, 'WHEELS_ON': 1905.0, 'TAXI_IN': 11.0, 'SCHEDULED_ARRIVAL': 1901, 'ARRIVAL_TIME': 1916.0, 'ARRIVAL_DELAY': 15.0, 'DIVERTED': 0, 'CANCELLED': 0, 'CANCELLATION_REASON': None, 'AIR_SYSTEM_DELAY': 8.0, 'SECURITY_DELAY': 0.0, 'AIRLINE_DELAY': 0.0, 'LATE_AIRCRAFT_DELAY': 7.0, 'WEATHER_DELAY': 0.0}\n",
      "{'_id': ObjectId('6363f49401da50698360a912'), 'ID': 47, 'YEAR': 2015, 'MONTH': 1, 'DAY': 3, 'DAY_OF_WEEK': 6, 'AIRLINE': 'US', 'FLIGHT_NUMBER': 486, 'TAIL_NUMBER': 'N572UW', 'ORIGIN_AIRPORT': 'SAN', 'DESTINATION_AIRPORT': 'PHX', 'SCHEDULED_DEPARTURE': 1615, 'DEPARTURE_TIME': 1606.0, 'DEPARTURE_DELAY': -9.0, 'TAXI_OUT': 28.0, 'WHEELS_OFF': 1634.0, 'SCHEDULED_TIME': 76, 'ELAPSED_TIME': 95.0, 'AIR_TIME': 57.0, 'DISTANCE': 304, 'WHEELS_ON': 1831.0, 'TAXI_IN': 10.0, 'SCHEDULED_ARRIVAL': 1831, 'ARRIVAL_TIME': 1841.0, 'ARRIVAL_DELAY': 10.0, 'DIVERTED': 0, 'CANCELLED': 0, 'CANCELLATION_REASON': None, 'AIR_SYSTEM_DELAY': None, 'SECURITY_DELAY': None, 'AIRLINE_DELAY': None, 'LATE_AIRCRAFT_DELAY': None, 'WEATHER_DELAY': None}\n",
      "{'_id': ObjectId('6363f49401da50698360a906'), 'ID': 35, 'YEAR': 2015, 'MONTH': 3, 'DAY': 2, 'DAY_OF_WEEK': 1, 'AIRLINE': 'US', 'FLIGHT_NUMBER': 686, 'TAIL_NUMBER': 'N570UW', 'ORIGIN_AIRPORT': 'PHL', 'DESTINATION_AIRPORT': 'PHX', 'SCHEDULED_DEPARTURE': 1340, 'DEPARTURE_TIME': 1520.0, 'DEPARTURE_DELAY': 100.0, 'TAXI_OUT': 11.0, 'WHEELS_OFF': 1531.0, 'SCHEDULED_TIME': 322, 'ELAPSED_TIME': 322.0, 'AIR_TIME': 308.0, 'DISTANCE': 2075, 'WHEELS_ON': 1839.0, 'TAXI_IN': 3.0, 'SCHEDULED_ARRIVAL': 1702, 'ARRIVAL_TIME': 1842.0, 'ARRIVAL_DELAY': 100.0, 'DIVERTED': 0, 'CANCELLED': 0, 'CANCELLATION_REASON': None, 'AIR_SYSTEM_DELAY': 0.0, 'SECURITY_DELAY': 0.0, 'AIRLINE_DELAY': 22.0, 'LATE_AIRCRAFT_DELAY': 78.0, 'WEATHER_DELAY': 0.0}\n",
      "{'_id': ObjectId('6363f49401da50698360a8f9'), 'ID': 22, 'YEAR': 2015, 'MONTH': 1, 'DAY': 18, 'DAY_OF_WEEK': 7, 'AIRLINE': 'US', 'FLIGHT_NUMBER': 1756, 'TAIL_NUMBER': 'N823AW', 'ORIGIN_AIRPORT': 'PBI', 'DESTINATION_AIRPORT': 'PHL', 'SCHEDULED_DEPARTURE': 1156, 'DEPARTURE_TIME': 1304.0, 'DEPARTURE_DELAY': 68.0, 'TAXI_OUT': 10.0, 'WHEELS_OFF': 1314.0, 'SCHEDULED_TIME': 154, 'ELAPSED_TIME': 140.0, 'AIR_TIME': 122.0, 'DISTANCE': 951, 'WHEELS_ON': 1516.0, 'TAXI_IN': 8.0, 'SCHEDULED_ARRIVAL': 1430, 'ARRIVAL_TIME': 1524.0, 'ARRIVAL_DELAY': 54.0, 'DIVERTED': 0, 'CANCELLED': 0, 'CANCELLATION_REASON': None, 'AIR_SYSTEM_DELAY': 0.0, 'SECURITY_DELAY': 0.0, 'AIRLINE_DELAY': 21.0, 'LATE_AIRCRAFT_DELAY': 33.0, 'WEATHER_DELAY': 0.0}\n",
      "{'_id': ObjectId('6363f49401da50698360a909'), 'ID': 38, 'YEAR': 2015, 'MONTH': 2, 'DAY': 12, 'DAY_OF_WEEK': 4, 'AIRLINE': 'US', 'FLIGHT_NUMBER': 2149, 'TAIL_NUMBER': 'N742PS', 'ORIGIN_AIRPORT': 'BOS', 'DESTINATION_AIRPORT': 'DCA', 'SCHEDULED_DEPARTURE': 1700, 'DEPARTURE_TIME': 1653.0, 'DEPARTURE_DELAY': -7.0, 'TAXI_OUT': 38.0, 'WHEELS_OFF': 1731.0, 'SCHEDULED_TIME': 101, 'ELAPSED_TIME': 116.0, 'AIR_TIME': 75.0, 'DISTANCE': 399, 'WHEELS_ON': 1846.0, 'TAXI_IN': 3.0, 'SCHEDULED_ARRIVAL': 1841, 'ARRIVAL_TIME': 1849.0, 'ARRIVAL_DELAY': 8.0, 'DIVERTED': 0, 'CANCELLED': 0, 'CANCELLATION_REASON': None, 'AIR_SYSTEM_DELAY': None, 'SECURITY_DELAY': None, 'AIRLINE_DELAY': None, 'LATE_AIRCRAFT_DELAY': None, 'WEATHER_DELAY': None}\n",
      "{'_id': ObjectId('6363f49401da50698360a942'), 'ID': 95, 'YEAR': 2015, 'MONTH': 3, 'DAY': 5, 'DAY_OF_WEEK': 4, 'AIRLINE': 'US', 'FLIGHT_NUMBER': 1784, 'TAIL_NUMBER': 'N176UW', 'ORIGIN_AIRPORT': 'BWI', 'DESTINATION_AIRPORT': 'PHX', 'SCHEDULED_DEPARTURE': 2010, 'DEPARTURE_TIME': 2129.0, 'DEPARTURE_DELAY': 79.0, 'TAXI_OUT': 54.0, 'WHEELS_OFF': 2223.0, 'SCHEDULED_TIME': 312, 'ELAPSED_TIME': 339.0, 'AIR_TIME': 281.0, 'DISTANCE': 1999, 'WHEELS_ON': 104.0, 'TAXI_IN': 4.0, 'SCHEDULED_ARRIVAL': 2322, 'ARRIVAL_TIME': 108.0, 'ARRIVAL_DELAY': 106.0, 'DIVERTED': 0, 'CANCELLED': 0, 'CANCELLATION_REASON': None, 'AIR_SYSTEM_DELAY': 27.0, 'SECURITY_DELAY': 0.0, 'AIRLINE_DELAY': 0.0, 'LATE_AIRCRAFT_DELAY': 23.0, 'WEATHER_DELAY': 56.0}\n"
     ]
    }
   ],
   "source": [
    "#g)Find top 10 airlines of us\n",
    "allDocuments = collection.aggregate([{'$match':{'AIRLINE':\"US\"}},{'$sort':{'AIRLINE':-1}},{'$limit':10}])\n",
    "for item in allDocuments:\n",
    "    print(item)\n"
   ]
  },
  {
   "cell_type": "code",
   "execution_count": 114,
   "id": "5e8e8e4f",
   "metadata": {},
   "outputs": [
    {
     "name": "stdout",
     "output_type": "stream",
     "text": [
      "{'maxcancel': 1, 'mincancel': 0}\n"
     ]
    }
   ],
   "source": [
    "#h)Finding airlines that make the maximum, minimum number of cancellations.\n",
    "allDocuments = collection.aggregate([{'$group':{'_id':'null','maxcancel':{'$max':'$CANCELLED'},'mincancel':{'$min':'$CANCELLED'}}},{'$project':{'_id':0}}])\n",
    "for item in allDocuments:\n",
    "    print(item)"
   ]
  },
  {
   "cell_type": "code",
   "execution_count": 117,
   "id": "d2d68d47",
   "metadata": {},
   "outputs": [
    {
     "name": "stdout",
     "output_type": "stream",
     "text": [
      "{'_id': 'WN', 'totalcount': 35}\n",
      "{'_id': 'OO', 'totalcount': 25}\n",
      "{'_id': 'EV', 'totalcount': 22}\n",
      "{'_id': 'DL', 'totalcount': 18}\n",
      "{'_id': 'B6', 'totalcount': 16}\n",
      "{'_id': 'AA', 'totalcount': 12}\n",
      "{'_id': 'US', 'totalcount': 9}\n",
      "{'_id': 'UA', 'totalcount': 8}\n",
      "{'_id': 'MQ', 'totalcount': 5}\n",
      "{'_id': 'HA', 'totalcount': 1}\n"
     ]
    }
   ],
   "source": [
    "#i)Find and show airlines names in descending that make the most number of diversions made         \n",
    "s = collection.aggregate([{'$match':{'DIVERTED':1}},{'$group':{'_id':'$AIRLINE','totalcount':{'$count':{}}}},{'$sort':{'totalcount':-1}}])\n",
    "for item in s:\n",
    "    print(item)\n",
    "    "
   ]
  },
  {
   "cell_type": "code",
   "execution_count": 119,
   "id": "48158e45",
   "metadata": {},
   "outputs": [
    {
     "name": "stdout",
     "output_type": "stream",
     "text": [
      "{'_id': 2, 'Diviton': 60}\n"
     ]
    }
   ],
   "source": [
    "#j)Finding days of month that see the most number of diversion\n",
    "d = collection.aggregate([{'$group':{'_id':'$MONTH','Diviton':{'$sum':'$DIVERTED'}}},{'$sort':{'Diviton':-1}},{'$limit':1}])\n",
    "for item in d:\n",
    "    print(item)"
   ]
  },
  {
   "cell_type": "code",
   "execution_count": 120,
   "id": "d7fb82c4",
   "metadata": {},
   "outputs": [
    {
     "name": "stdout",
     "output_type": "stream",
     "text": [
      "{'_id': 'null', 'depardelay': 39.62091603371482}\n"
     ]
    }
   ],
   "source": [
    "#k)Calculating mean and standard deviation of departure delay for all flights in minutes\n",
    "e = collection.aggregate([{'$group':{'_id':'null', 'depardelay':{'$stdDevSamp':'$DEPARTURE_DELAY'}}}])\n",
    "for item in e:\n",
    "    print(item)"
   ]
  },
  {
   "cell_type": "code",
   "execution_count": 121,
   "id": "7551a95a",
   "metadata": {},
   "outputs": [
    {
     "name": "stdout",
     "output_type": "stream",
     "text": [
      "{'_id': 'null', 'arrivaldelay': 42.37838582463237}\n"
     ]
    }
   ],
   "source": [
    "#l)Calculating mean and standard deviation of arrival delay for all flights in minutes\n",
    "f = collection.aggregate([{'$group':{'_id':'null', 'arrivaldelay':{'$stdDevSamp':'$ARRIVAL_DELAY'}}}])\n",
    "for item in f:\n",
    "    print(item)"
   ]
  },
  {
   "cell_type": "code",
   "execution_count": null,
   "id": "134ecaea",
   "metadata": {},
   "outputs": [],
   "source": []
  }
 ],
 "metadata": {
  "kernelspec": {
   "display_name": "Python 3 (ipykernel)",
   "language": "python",
   "name": "python3"
  },
  "language_info": {
   "codemirror_mode": {
    "name": "ipython",
    "version": 3
   },
   "file_extension": ".py",
   "mimetype": "text/x-python",
   "name": "python",
   "nbconvert_exporter": "python",
   "pygments_lexer": "ipython3",
   "version": "3.9.12"
  }
 },
 "nbformat": 4,
 "nbformat_minor": 5
}
